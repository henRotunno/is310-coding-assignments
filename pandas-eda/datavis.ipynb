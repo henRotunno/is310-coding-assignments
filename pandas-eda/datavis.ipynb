{
 "cells": [
  {
   "cell_type": "markdown",
   "metadata": {},
   "source": [
    "Greetings, in this script we will analyze best sellers and the year that books are published. A lot of the most common books in the states are written in times well before we were born. These books commonly make it into the hands of highschoolers. In this project, we will analzye how popular books are in accordance with the time they were written."
   ]
  },
  {
   "cell_type": "markdown",
   "metadata": {},
   "source": [
    "To start off, we need to clean up the data. On this part, I had co-pilot help me out as a lot of the types weren't cooperating "
   ]
  },
  {
   "cell_type": "markdown",
   "metadata": {},
   "source": [
    "Import statements and Dataframes"
   ]
  },
  {
   "cell_type": "code",
   "execution_count": 29,
   "metadata": {},
   "outputs": [],
   "source": [
    "import pandas as pd \n",
    "import altair as alt\n",
    "books_df = pd.read_csv(\"https://raw.githubusercontent.com/melaniewalsh/responsible-datasets-in-context/main/datasets/top-500-novels/library_top_500.csv\")\n",
    "\n",
    "\n",
    "\n",
    "books_df['gr_num_ratings'] = books_df['gr_num_ratings'].str.replace(',', '').astype(float) # from what I can tell we are handlign commas\n",
    "books_df['gr_avg_rating_rank'] = books_df['gr_avg_rating_rank'].astype(float) # this part is extremely weird, don't completely get the astype method\n",
    "books_df['gr_num_ratings'] = books_df['gr_num_ratings'].fillna(0)\n",
    "books_df['gr_avg_rating_rank'] = books_df['gr_avg_rating_rank'].fillna(books_df['gr_avg_rating_rank'].mean())\n"
   ]
  },
  {
   "cell_type": "markdown",
   "metadata": {},
   "source": [
    "Cool, lets aggregate our data! We will include by doing this, we will be able to visualize the decade and average ranking"
   ]
  },
  {
   "cell_type": "code",
   "execution_count": 30,
   "metadata": {},
   "outputs": [],
   "source": [
    "books_df['decade'] = (books_df['pub_year'] // 10) * 10 # consulted co pilot for this implementation, it was a lot more simple than I thought\n",
    "dec_avgs = books_df.groupby('decade').agg(\n",
    "    avg_rank=('gr_avg_rating_rank', 'mean'), \n",
    "    av_rate=('gr_num_ratings', 'mean')  \n",
    ").reset_index()\n"
   ]
  },
  {
   "cell_type": "markdown",
   "metadata": {},
   "source": [
    "Now that the aggregation is complete, we can visualize our data! This chart will display the average rating of books by the decade!"
   ]
  },
  {
   "cell_type": "code",
   "execution_count": 31,
   "metadata": {},
   "outputs": [
    {
     "data": {
      "text/html": [
       "\n",
       "<style>\n",
       "  #altair-viz-11a22d5c22f74518a61b7b458e226495.vega-embed {\n",
       "    width: 100%;\n",
       "    display: flex;\n",
       "  }\n",
       "\n",
       "  #altair-viz-11a22d5c22f74518a61b7b458e226495.vega-embed details,\n",
       "  #altair-viz-11a22d5c22f74518a61b7b458e226495.vega-embed details summary {\n",
       "    position: relative;\n",
       "  }\n",
       "</style>\n",
       "<div id=\"altair-viz-11a22d5c22f74518a61b7b458e226495\"></div>\n",
       "<script type=\"text/javascript\">\n",
       "  var VEGA_DEBUG = (typeof VEGA_DEBUG == \"undefined\") ? {} : VEGA_DEBUG;\n",
       "  (function(spec, embedOpt){\n",
       "    let outputDiv = document.currentScript.previousElementSibling;\n",
       "    if (outputDiv.id !== \"altair-viz-11a22d5c22f74518a61b7b458e226495\") {\n",
       "      outputDiv = document.getElementById(\"altair-viz-11a22d5c22f74518a61b7b458e226495\");\n",
       "    }\n",
       "    const paths = {\n",
       "      \"vega\": \"https://cdn.jsdelivr.net/npm/vega@5?noext\",\n",
       "      \"vega-lib\": \"https://cdn.jsdelivr.net/npm/vega-lib?noext\",\n",
       "      \"vega-lite\": \"https://cdn.jsdelivr.net/npm/vega-lite@5.20.1?noext\",\n",
       "      \"vega-embed\": \"https://cdn.jsdelivr.net/npm/vega-embed@6?noext\",\n",
       "    };\n",
       "\n",
       "    function maybeLoadScript(lib, version) {\n",
       "      var key = `${lib.replace(\"-\", \"\")}_version`;\n",
       "      return (VEGA_DEBUG[key] == version) ?\n",
       "        Promise.resolve(paths[lib]) :\n",
       "        new Promise(function(resolve, reject) {\n",
       "          var s = document.createElement('script');\n",
       "          document.getElementsByTagName(\"head\")[0].appendChild(s);\n",
       "          s.async = true;\n",
       "          s.onload = () => {\n",
       "            VEGA_DEBUG[key] = version;\n",
       "            return resolve(paths[lib]);\n",
       "          };\n",
       "          s.onerror = () => reject(`Error loading script: ${paths[lib]}`);\n",
       "          s.src = paths[lib];\n",
       "        });\n",
       "    }\n",
       "\n",
       "    function showError(err) {\n",
       "      outputDiv.innerHTML = `<div class=\"error\" style=\"color:red;\">${err}</div>`;\n",
       "      throw err;\n",
       "    }\n",
       "\n",
       "    function displayChart(vegaEmbed) {\n",
       "      vegaEmbed(outputDiv, spec, embedOpt)\n",
       "        .catch(err => showError(`Javascript Error: ${err.message}<br>This usually means there's a typo in your chart specification. See the javascript console for the full traceback.`));\n",
       "    }\n",
       "\n",
       "    if(typeof define === \"function\" && define.amd) {\n",
       "      requirejs.config({paths});\n",
       "      require([\"vega-embed\"], displayChart, err => showError(`Error loading script: ${err.message}`));\n",
       "    } else {\n",
       "      maybeLoadScript(\"vega\", \"5\")\n",
       "        .then(() => maybeLoadScript(\"vega-lite\", \"5.20.1\"))\n",
       "        .then(() => maybeLoadScript(\"vega-embed\", \"6\"))\n",
       "        .catch(showError)\n",
       "        .then(() => displayChart(vegaEmbed));\n",
       "    }\n",
       "  })({\"config\": {\"view\": {\"continuousWidth\": 300, \"continuousHeight\": 300}}, \"data\": {\"name\": \"data-9e304906a5970ee55efafaa11ce901ce\"}, \"mark\": {\"type\": \"line\"}, \"encoding\": {\"tooltip\": [{\"field\": \"decade\", \"type\": \"ordinal\"}, {\"field\": \"avg_rank\", \"type\": \"quantitative\"}], \"x\": {\"field\": \"decade\", \"type\": \"ordinal\"}, \"y\": {\"field\": \"avg_rank\", \"type\": \"quantitative\"}}, \"title\": \"Average Book Rank by Decade\", \"$schema\": \"https://vega.github.io/schema/vega-lite/v5.20.1.json\", \"datasets\": {\"data-9e304906a5970ee55efafaa11ce901ce\": [{\"decade\": 1020, \"avg_rank\": 430.0, \"av_rate\": 13275.0}, {\"decade\": 1350, \"avg_rank\": 333.0, \"av_rate\": 39870.0}, {\"decade\": 1480, \"avg_rank\": 304.0, \"av_rate\": 37568.0}, {\"decade\": 1510, \"avg_rank\": 480.0, \"av_rate\": 74619.0}, {\"decade\": 1600, \"avg_rank\": 318.0, \"av_rate\": 269435.0}, {\"decade\": 1670, \"avg_rank\": 336.5, \"av_rate\": 76737.5}, {\"decade\": 1710, \"avg_rank\": 455.0, \"av_rate\": 303303.0}, {\"decade\": 1720, \"avg_rank\": 469.5, \"av_rate\": 140105.5}, {\"decade\": 1740, \"avg_rank\": 422.0, \"av_rate\": 33358.0}, {\"decade\": 1750, \"avg_rank\": 422.5, \"av_rate\": 148345.5}, {\"decade\": 1760, \"avg_rank\": 493.0, \"av_rate\": 8060.5}, {\"decade\": 1770, \"avg_rank\": 445.0, \"av_rate\": 129949.0}, {\"decade\": 1780, \"avg_rank\": 176.0, \"av_rate\": 53068.0}, {\"decade\": 1790, \"avg_rank\": 63.0, \"av_rate\": 2140.0}, {\"decade\": 1810, \"avg_rank\": 280.55555555555554, \"av_rate\": 962506.3333333334}, {\"decade\": 1820, \"avg_rank\": 418.3333333333333, \"av_rate\": 37905.333333333336}, {\"decade\": 1830, \"avg_rank\": 347.5, \"av_rate\": 102501.625}, {\"decade\": 1840, \"avg_rank\": 258.54545454545456, \"av_rate\": 570198.1818181818}, {\"decade\": 1850, \"avg_rank\": 348.25, \"av_rate\": 228015.125}, {\"decade\": 1860, \"avg_rank\": 231.4, \"av_rate\": 433068.06666666665}, {\"decade\": 1870, \"avg_rank\": 262.45454545454544, \"av_rate\": 260347.63636363635}, {\"decade\": 1880, \"avg_rank\": 336.7142857142857, \"av_rate\": 146720.57142857142}, {\"decade\": 1890, \"avg_rank\": 310.27272727272725, \"av_rate\": 395233.7272727273}, {\"decade\": 1900, \"avg_rank\": 313.6666666666667, \"av_rate\": 223853.58333333334}, {\"decade\": 1910, \"avg_rank\": 275.94444444444446, \"av_rate\": 212862.11111111112}, {\"decade\": 1920, \"avg_rank\": 315.7857142857143, \"av_rate\": 344414.25}, {\"decade\": 1930, \"avg_rank\": 224.17241379310346, \"av_rate\": 536605.3103448276}, {\"decade\": 1940, \"avg_rank\": 198.46666666666667, \"av_rate\": 502815.76666666666}, {\"decade\": 1950, \"avg_rank\": 228.11764705882354, \"av_rate\": 760296.0294117647}, {\"decade\": 1960, \"avg_rank\": 165.75, \"av_rate\": 664716.3928571428}, {\"decade\": 1970, \"avg_rank\": 207.86666666666667, \"av_rate\": 299683.7}, {\"decade\": 1980, \"avg_rank\": 194.14705882352942, \"av_rate\": 548415.7058823529}, {\"decade\": 1990, \"avg_rank\": 217.27027027027026, \"av_rate\": 1025889.7837837838}, {\"decade\": 2000, \"avg_rank\": 232.6891891891892, \"av_rate\": 1175352.2702702703}, {\"decade\": 2010, \"avg_rank\": 207.1818181818182, \"av_rate\": 1568433.4545454546}]}}, {\"mode\": \"vega-lite\"});\n",
       "</script>"
      ],
      "text/plain": [
       "alt.Chart(...)"
      ]
     },
     "metadata": {},
     "output_type": "display_data"
    }
   ],
   "source": [
    "decade_power_rankings = alt.Chart(dec_avgs).mark_line().encode(\n",
    "    x='decade:O',  \n",
    "    y='avg_rank:Q',  \n",
    "    tooltip=['decade:O', 'avg_rank:Q']\n",
    ").properties(\n",
    "    title='Average Book Rank by Decade'\n",
    ")\n",
    "decade_power_rankings.show()"
   ]
  },
  {
   "cell_type": "markdown",
   "metadata": {},
   "source": [
    "Hey what happened in from 1760 to 1790? Perhaps people aren't very fond of the texts put out during the revolutionary war. It also appears that the years leading up to 1760 were the peak of literature as they rose to a 500 rating. I think that while looking at this chart, it can give us an idea of political divide. For example, post ww2 era America had a strong division, especially during the Vietnam years. This can potentially explain the drop and stagnation in the average ratings. As we know, politics today are still divided which could allude to the same stagnation. Just food for thought, it's hard to definitely say. Due to less people reading books, I am curious to see how much higher these rankings can go. If less read, less will have an opinion after all!"
   ]
  },
  {
   "cell_type": "markdown",
   "metadata": {},
   "source": [
    "I would like to thank you all for attending my data visualization ceremony, keep cool and rock on"
   ]
  }
 ],
 "metadata": {
  "kernelspec": {
   "display_name": ".venv",
   "language": "python",
   "name": "python3"
  },
  "language_info": {
   "codemirror_mode": {
    "name": "ipython",
    "version": 3
   },
   "file_extension": ".py",
   "mimetype": "text/x-python",
   "name": "python",
   "nbconvert_exporter": "python",
   "pygments_lexer": "ipython3",
   "version": "3.12.1"
  }
 },
 "nbformat": 4,
 "nbformat_minor": 2
}
